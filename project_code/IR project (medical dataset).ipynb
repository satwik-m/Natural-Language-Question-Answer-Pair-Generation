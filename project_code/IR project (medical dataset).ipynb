{
 "cells": [
  {
   "cell_type": "markdown",
   "metadata": {},
   "source": [
    "# Build Knowledge Graph"
   ]
  },
  {
   "cell_type": "code",
   "execution_count": 1,
   "metadata": {
    "scrolled": true
   },
   "outputs": [
    {
     "name": "stdout",
     "output_type": "stream",
     "text": [
      "{'0': 'Acquired_Abnormality', '1': 'Activity', '2': 'Age_Group', '3': 'Alga', '4': 'Amino_Acid,_Peptide,_or_Protein', '5': 'Amino_Acid_Sequence', '6': 'Amphibian', '7': 'Anatomical_Abnormality', '8': 'Anatomical_Structure', '9': 'Animal', '10': 'Antibiotic', '11': 'Archaeon', '12': 'Bacterium', '13': 'Behavior', '14': 'Biologic_Function', '15': 'Biologically_Active_Substance', '16': 'Biomedical_Occupation_or_Discipline', '17': 'Biomedical_or_Dental_Material', '18': 'Bird', '19': 'Body_Location_or_Region', '20': 'Body_Part,_Organ,_or_Organ_Component', '21': 'Body_Space_or_Junction', '22': 'Body_Substance', '23': 'Body_System', '24': 'Carbohydrate', '25': 'Carbohydrate_Sequence', '26': 'Cell', '27': 'Cell_Component', '28': 'Cell_Function', '29': 'Cell_or_Molecular_Dysfunction', '30': 'Chemical', '31': 'Chemical_Viewed_Functionally', '32': 'Chemical_Viewed_Structurally', '33': 'Classification', '34': 'Clinical_Attribute', '35': 'Clinical_Drug', '36': 'Conceptual_Entity', '37': 'Congenital_Abnormality', '38': 'Daily_or_Recreational_Activity', '39': 'Diagnostic_Procedure', '40': 'Disease_or_Syndrome', '41': 'Drug_Delivery_Device', '42': 'Educational_Activity', '43': 'Eicosanoid', '44': 'Element,_Ion,_or_Isotope', '45': 'Embryonic_Structure', '46': 'Entity', '47': 'Environmental_Effect_of_Humans', '48': 'Enzyme', '49': 'Event', '50': 'Experimental_Model_of_Disease', '51': 'Family_Group', '52': 'Finding', '53': 'Fish', '54': 'Food', '55': 'Fully_Formed_Anatomical_Structure', '56': 'Functional_Concept', '57': 'Fungus', '58': 'Gene_or_Genome', '59': 'Genetic_Function', '60': 'Geographic_Area', '61': 'Governmental_or_Regulatory_Activity', '62': 'Group', '63': 'Group_Attribute', '64': 'Hazardous_or_Poisonous_Substance', '65': 'Health_Care_Activity', '66': 'Health_Care_Related_Organization', '67': 'Hormone', '68': 'Human', '69': 'Human-caused_Phenomenon_or_Process', '70': 'Idea_or_Concept', '71': 'Immunologic_Factor', '72': 'Indicator,_Reagent,_or_Diagnostic_Aid', '73': 'Individual_Behavior', '74': 'Injury_or_Poisoning', '75': 'Inorganic_Chemical', '76': 'Intellectual_Product', '77': 'Invertebrate', '78': 'Laboratory_Procedure', '79': 'Laboratory_or_Test_Result', '80': 'Language', '81': 'Lipid', '82': 'Machine_Activity', '83': 'Mammal', '84': 'Manufactured_Object', '85': 'Medical_Device', '86': 'Mental_Process', '87': 'Mental_or_Behavioral_Dysfunction', '88': 'Molecular_Biology_Research_Technique', '89': 'Molecular_Function', '90': 'Molecular_Sequence', '91': 'Natural_Phenomenon_or_Process', '92': 'Neoplastic_Process', '93': 'Neuroreactive_Substance_or_Biogenic_Amine', '94': 'Nucleic_Acid,_Nucleoside,_or_Nucleotide', '95': 'Nucleotide_Sequence', '96': 'Occupation_or_Discipline', '97': 'Occupational_Activity', '98': 'Organ_or_Tissue_Function', '99': 'Organic_Chemical', '100': 'Organism', '101': 'Organism_Attribute', '102': 'Organism_Function', '103': 'Organization', '104': 'Organophosphorus_Compound', '105': 'Pathologic_Function', '106': 'Patient_or_Disabled_Group', '107': 'Pharmacologic_Substance', '108': 'Phenomenon_or_Process', '109': 'Physical_Object', '110': 'Physiologic_Function', '111': 'Plant', '112': 'Population_Group', '113': 'Professional_Society', '114': 'Professional_or_Occupational_Group', '115': 'Qualitative_Concept', '116': 'Quantitative_Concept', '117': 'Receptor', '118': 'Regulation_or_Law', '119': 'Reptile', '120': 'Research_Activity', '121': 'Research_Device', '122': 'Rickettsia_or_Chlamydia', '123': 'Self-help_or_Relief_Organization', '124': 'Sign_or_Symptom', '125': 'Social_Behavior', '126': 'Spatial_Concept', '127': 'Steroid', '128': 'Substance', '129': 'Temporal_Concept', '130': 'Therapeutic_or_Preventive_Procedure', '131': 'Tissue', '132': 'Vertebrate', '133': 'Virus', '134': 'Vitamin'}\n",
      "{'0': 'adjacent_to', '1': 'affects', '2': 'analyzes', '3': 'assesses_effect_of', '4': 'associated_with', '5': 'branch_of', '6': 'carries_out', '7': 'causes', '8': 'co-occurs_with', '9': 'complicates', '10': 'conceptual_part_of', '11': 'conceptually_related_to', '12': 'connected_to', '13': 'consists_of', '14': 'contains', '15': 'degree_of', '16': 'derivative_of', '17': 'developmental_form_of', '18': 'diagnoses', '19': 'disrupts', '20': 'evaluation_of', '21': 'exhibits', '22': 'indicates', '23': 'ingredient_of', '24': 'interacts_with', '25': 'interconnects', '26': 'isa', '27': 'issue_in', '28': 'location_of', '29': 'manages', '30': 'manifestation_of', '31': 'measurement_of', '32': 'measures', '33': 'method_of', '34': 'occurs_in', '35': 'part_of', '36': 'performs', '37': 'practices', '38': 'precedes', '39': 'prevents', '40': 'process_of', '41': 'produces', '42': 'property_of', '43': 'result_of', '44': 'surrounds', '45': 'traverses', '46': 'treats', '47': 'tributary_of', '48': 'uses'}\n",
      "{'0': 'Disorders', '1': 'Activities_&_Behaviors', '2': 'Living_Beings', '3': 'Living_Beings', '4': 'Chemicals_&_Drugs', '5': 'Genes_&_Molecular_Sequences', '6': 'Living_Beings', '7': 'Disorders', '8': 'Anatomy', '9': 'Living_Beings', '10': 'Chemicals_&_Drugs', '11': 'Living_Beings', '12': 'Living_Beings', '13': 'Activities_&_Behaviors', '14': 'Phenomena', '15': 'Chemicals_&_Drugs', '16': 'Occupations', '17': 'Chemicals_&_Drugs', '18': 'Living_Beings', '19': 'Anatomy', '20': 'Anatomy', '21': 'Anatomy', '22': 'Anatomy', '23': 'Anatomy', '24': 'Chemicals_&_Drugs', '25': 'Genes_&_Molecular_Sequences', '26': 'Anatomy', '27': 'Anatomy', '28': 'Physiology', '29': 'Disorders', '30': 'Chemicals_&_Drugs', '31': 'Chemicals_&_Drugs', '32': 'Chemicals_&_Drugs', '33': 'Concepts_&_Ideas', '34': 'Physiology', '35': 'Chemicals_&_Drugs', '36': 'Concepts_&_Ideas', '37': 'Disorders', '38': 'Activities_&_Behaviors', '39': 'Procedures', '40': 'Disorders', '41': 'Devices', '42': 'Procedures', '43': 'Chemicals_&_Drugs', '44': 'Chemicals_&_Drugs', '45': 'Anatomy', '46': 'Objects', '47': 'Phenomena', '48': 'Chemicals_&_Drugs', '49': 'Activities_&_Behaviors', '50': 'Disorders', '51': 'Living_Beings', '52': 'Disorders', '53': 'Living_Beings', '54': 'Objects', '55': 'Anatomy', '56': 'Concepts_&_Ideas', '57': 'Living_Beings', '58': 'Genes_&_Molecular_Sequences', '59': 'Physiology', '60': 'Geographic_Areas', '61': 'Activities_&_Behaviors', '62': 'Living_Beings', '63': 'Concepts_&_Ideas', '64': 'Chemicals_&_Drugs', '65': 'Procedures', '66': 'Organizations', '67': 'Chemicals_&_Drugs', '68': 'Living_Beings', '69': 'Phenomena', '70': 'Concepts_&_Ideas', '71': 'Chemicals_&_Drugs', '72': 'Chemicals_&_Drugs', '73': 'Activities_&_Behaviors', '74': 'Disorders', '75': 'Chemicals_&_Drugs', '76': 'Concepts_&_Ideas', '77': 'Living_Beings', '78': 'Procedures', '79': 'Phenomena', '80': 'Concepts_&_Ideas', '81': 'Chemicals_&_Drugs', '82': 'Activities_&_Behaviors', '83': 'Living_Beings', '84': 'Objects', '85': 'Devices', '86': 'Physiology', '87': 'Disorders', '88': 'Procedures', '89': 'Physiology', '90': 'Genes_&_Molecular_Sequences', '91': 'Phenomena', '92': 'Disorders', '93': 'Chemicals_&_Drugs', '94': 'Chemicals_&_Drugs', '95': 'Genes_&_Molecular_Sequences', '96': 'Occupations', '97': 'Activities_&_Behaviors', '98': 'Physiology', '99': 'Chemicals_&_Drugs', '100': 'Living_Beings', '101': 'Physiology', '102': 'Physiology', '103': 'Organizations', '104': 'Chemicals_&_Drugs', '105': 'Disorders', '106': 'Living_Beings', '107': 'Chemicals_&_Drugs', '108': 'Phenomena', '109': 'Objects', '110': 'Physiology', '111': 'Living_Beings', '112': 'Living_Beings', '113': 'Organizations', '114': 'Living_Beings', '115': 'Concepts_&_Ideas', '116': 'Concepts_&_Ideas', '117': 'Chemicals_&_Drugs', '118': 'Concepts_&_Ideas', '119': 'Living_Beings', '120': 'Procedures', '121': 'Devices', '122': 'Living_Beings', '123': 'Organizations', '124': 'Disorders', '125': 'Activities_&_Behaviors', '126': 'Concepts_&_Ideas', '127': 'Chemicals_&_Drugs', '128': 'Objects', '129': 'Concepts_&_Ideas', '130': 'Procedures', '131': 'Anatomy', '132': 'Living_Beings', '133': 'Living_Beings', '134': 'Chemicals_&_Drugs'}\n"
     ]
    }
   ],
   "source": [
    "entity={}\n",
    "with open(\"kg-data-master/umls/entities.txt\",\"r\") as f:\n",
    "    for line in f:\n",
    "        line=line.split()\n",
    "        entity[line[0]]=line[1]\n",
    "print(entity)\n",
    "\n",
    "relation={}\n",
    "with open(\"kg-data-master/umls/relations.txt\",\"r\") as f:\n",
    "    for line in f:\n",
    "        line=line.split()\n",
    "        relation[line[0]]=line[1]\n",
    "print(relation)\n",
    "\n",
    "entity_type={}\n",
    "with open(\"kg-data-master/umls/entity_category.txt\",\"r\") as f:\n",
    "    for line in f:\n",
    "        line=line.split()\n",
    "        entity_type[line[0]]=line[1]\n",
    "print(entity_type)"
   ]
  },
  {
   "cell_type": "code",
   "execution_count": 2,
   "metadata": {},
   "outputs": [],
   "source": [
    "class Node1:\n",
    "    def __init__(self,etype):\n",
    "        self.etype=etype\n",
    "        self.p=[]\n",
    "        self.bp=[]\n",
    "        \n",
    "class Node2:\n",
    "    def __init__(self,obj,pred):\n",
    "        self.obj=obj\n",
    "        self.pred=pred\n",
    "        \n",
    "class KG:\n",
    "    def __init__(self):\n",
    "        self.d={}\n",
    "        \n",
    "    def insert(self,sub,pred,obj,subtype,objtype):\n",
    "        if sub not in self.d:\n",
    "            self.d[sub]=Node1(subtype)\n",
    "        \n",
    "        if obj not in self.d:\n",
    "            self.d[obj]=Node1(objtype)\n",
    "            \n",
    "        self.d[sub].p.append(Node2(obj,pred))\n",
    "        self.d[obj].bp.append(Node2(sub,pred))\n",
    "        \n",
    "K=KG()\n",
    "with open(\"kg-data-master/umls/triples.txt\",\"r\") as f:\n",
    "    for line in f:\n",
    "        line=line.split()\n",
    "        K.insert(entity[line[1]],relation[line[0]],entity[line[2]],entity_type[line[1]],entity_type[line[2]])\n"
   ]
  },
  {
   "cell_type": "code",
   "execution_count": 3,
   "metadata": {},
   "outputs": [
    {
     "name": "stdout",
     "output_type": "stream",
     "text": [
      "enter the entity to form QA pairs: Bacterium\n",
      "causes\n",
      "['Bacterium', 'Living_Beings', 'causes', 'Disease_or_Syndrome', 'Disorders']\n"
     ]
    }
   ],
   "source": [
    "entity=input('enter the entity to form QA pairs: ')\n",
    "objects=K.d[entity].p\n",
    "print(objects[0].pred)\n",
    "tuples1=[]\n",
    "for i in range(len(objects)):\n",
    "    tuples1.append([entity,K.d[entity].etype,objects[i].pred,objects[i].obj,K.d[objects[i].obj].etype])\n",
    "print(tuples1[1])"
   ]
  },
  {
   "cell_type": "markdown",
   "metadata": {},
   "source": [
    "# Unique Forward Relation"
   ]
  },
  {
   "cell_type": "code",
   "execution_count": 4,
   "metadata": {},
   "outputs": [
    {
     "name": "stdout",
     "output_type": "stream",
     "text": [
      "[['Bacterium', 'Living_Beings', 'causes', 'Cell_or_Molecular_Dysfunction', 'Disorders'], ['Bacterium', 'Living_Beings', 'interacts_with', 'Amphibian', 'Living_Beings'], ['Bacterium', 'Living_Beings', 'isa', 'Entity', 'Objects'], ['Bacterium', 'Living_Beings', 'issue_in', 'Biomedical_Occupation_or_Discipline', 'Occupations'], ['Bacterium', 'Living_Beings', 'location_of', 'Biologically_Active_Substance', 'Chemicals_&_Drugs']]\n"
     ]
    }
   ],
   "source": [
    "di={}\n",
    "for i in tuples1:\n",
    "    if i[2] not in di:\n",
    "        di[i[2]]=1\n",
    "    else:\n",
    "        di[i[2]]+=1\n",
    "\n",
    "unique=[]\n",
    "for i in tuples1:\n",
    "    if di[i[2]]!=None:\n",
    "        unique.append(i)\n",
    "        di[i[2]]=None\n",
    "print(unique)"
   ]
  },
  {
   "cell_type": "code",
   "execution_count": 5,
   "metadata": {},
   "outputs": [],
   "source": [
    "keywords=[]\n",
    "answers=[]\n",
    "for i in unique:\n",
    "    keywords.append(' '.join([i[0],i[2],i[4]]))\n",
    "    answers.append(i[3])"
   ]
  },
  {
   "cell_type": "markdown",
   "metadata": {},
   "source": [
    "# Unique Reverse Relation"
   ]
  },
  {
   "cell_type": "code",
   "execution_count": 6,
   "metadata": {},
   "outputs": [
    {
     "name": "stdout",
     "output_type": "stream",
     "text": [
      "affects\n",
      "['Anatomical_Abnormality', 'Disorders', 'affects', 'Bacterium', 'Living_Beings']\n"
     ]
    }
   ],
   "source": [
    "objects=K.d[entity].bp\n",
    "print(objects[0].pred)\n",
    "tuples2=[]\n",
    "for i in range(len(objects)):\n",
    "    tuples2.append([objects[i].obj,K.d[objects[i].obj].etype,objects[i].pred,entity,K.d[entity].etype])\n",
    "print(tuples2[1])"
   ]
  },
  {
   "cell_type": "code",
   "execution_count": 7,
   "metadata": {},
   "outputs": [
    {
     "name": "stdout",
     "output_type": "stream",
     "text": [
      "[['Acquired_Abnormality', 'Disorders', 'affects', 'Bacterium', 'Living_Beings'], ['Immunologic_Factor', 'Chemicals_&_Drugs', 'indicates', 'Bacterium', 'Living_Beings'], ['Alga', 'Living_Beings', 'interacts_with', 'Bacterium', 'Living_Beings'], ['Acquired_Abnormality', 'Disorders', 'location_of', 'Bacterium', 'Living_Beings'], ['Acquired_Abnormality', 'Disorders', 'part_of', 'Bacterium', 'Living_Beings'], ['Biologic_Function', 'Phenomena', 'process_of', 'Bacterium', 'Living_Beings'], ['Clinical_Attribute', 'Physiology', 'property_of', 'Bacterium', 'Living_Beings']]\n"
     ]
    }
   ],
   "source": [
    "di={}\n",
    "for i in tuples2:\n",
    "    if i[2] not in di:\n",
    "        di[i[2]]=1\n",
    "    else:\n",
    "        di[i[2]]+=1\n",
    "\n",
    "unique=[]\n",
    "for i in tuples2:\n",
    "    if di[i[2]]!=None:\n",
    "        unique.append(i)\n",
    "        di[i[2]]=None\n",
    "print(unique)"
   ]
  },
  {
   "cell_type": "code",
   "execution_count": 8,
   "metadata": {},
   "outputs": [],
   "source": [
    "for i in unique:\n",
    "    keywords.append(' '.join([i[0],i[2],i[4]]))\n",
    "    answers.append(i[3])"
   ]
  },
  {
   "cell_type": "code",
   "execution_count": 9,
   "metadata": {},
   "outputs": [],
   "source": [
    "import numpy as np\n",
    "keywords=np.array(keywords,dtype='U74')"
   ]
  },
  {
   "cell_type": "code",
   "execution_count": 10,
   "metadata": {},
   "outputs": [
    {
     "data": {
      "text/plain": [
       "array(['Bacterium causes Disorders',\n",
       "       'Bacterium interacts_with Living_Beings', 'Bacterium isa Objects',\n",
       "       'Bacterium issue_in Occupations',\n",
       "       'Bacterium location_of Chemicals_&_Drugs',\n",
       "       'Acquired_Abnormality affects Living_Beings',\n",
       "       'Immunologic_Factor indicates Living_Beings',\n",
       "       'Alga interacts_with Living_Beings',\n",
       "       'Acquired_Abnormality location_of Living_Beings',\n",
       "       'Acquired_Abnormality part_of Living_Beings',\n",
       "       'Biologic_Function process_of Living_Beings',\n",
       "       'Clinical_Attribute property_of Living_Beings'], dtype='<U74')"
      ]
     },
     "execution_count": 10,
     "metadata": {},
     "output_type": "execute_result"
    }
   ],
   "source": [
    "keywords"
   ]
  },
  {
   "cell_type": "markdown",
   "metadata": {},
   "source": [
    "# Data preprocessing"
   ]
  },
  {
   "cell_type": "code",
   "execution_count": 11,
   "metadata": {
    "scrolled": true
   },
   "outputs": [
    {
     "name": "stdout",
     "output_type": "stream",
     "text": [
      "Saved: k2q.pkl\n",
      "[what movies did sally field win an oscar for] => [movies field win oscar]\n",
      "[who played mulder in the x files] => [played mulder x files]\n",
      "[what is the name of dawn frenchs first novel] => [name dawn french first novel]\n",
      "[what song is monifah famous for] => [song famous]\n",
      "[what illness does michael j fox have] => [illness michael j fox]\n",
      "[what are some of the awards taylor swift has won] => [awards taylor swift]\n",
      "[who is ben roethlisberger parents] => [ben roethlisberger parents]\n",
      "[what is modern egyptian language] => [modern egyptian language]\n",
      "[who plays the voice of lois griffin] => [plays voice lois griffin]\n",
      "[who did lenny kravitz marry] => [lenny kravitz marry]\n",
      "[what money system does australia use] => [money system australia use]\n",
      "[what to do in roatan bay] => [roatan bay]\n",
      "[who plays jacob black in the twilight movies] => [plays jacob black twilight movies]\n",
      "[what to see outside of paris] => [see outside paris]\n",
      "[who does christopher walken play in batman returns] => [christopher play batman returns]\n",
      "[what contribution did maurice wilkins make to dna] => [contribution maurice wilkins make dna]\n",
      "[what is there to do around austin texas] => [austin texas]\n",
      "[what team did deion sanders play for in baseball] => [team deion sanders play baseball]\n",
      "[what county is plainfield il in] => [county plainfield il]\n",
      "[who plays young john winchester in supernatural] => [plays young john winchester supernatural]\n",
      "[what airport fly into miami] => [airport fly miami]\n",
      "[where is napoleon buried] => [napoleon buried]\n",
      "[what language do they speak in spain wikipedia] => [language speak spain wikipedia]\n",
      "[what is the name of the pittsburgh steelers stadium] => [name pittsburgh steelers stadium]\n",
      "[where did matthias schleiden go to school] => [matthias schleiden go school]\n",
      "[where is the great pyramid of giza situated] => [great pyramid giza situated]\n",
      "[what beach did the canadians assault] => [beach canadians assault]\n",
      "[what do people from spain speak] => [people spain speak]\n",
      "[where was stephen g breyer born] => [stephen g breyer born]\n",
      "[what tv show did joey lawrence play on] => [tv show joey lawrence play]\n",
      "[what kind of language do they speak in greece] => [kind language speak greece]\n",
      "[what did corey haim really die of] => [corey haim die]\n",
      "[where did pavlova originate] => [pavlova originate]\n",
      "[who does nikki reed play in the movie twilight] => [nikki reed play movie twilight]\n",
      "[what events does stephanie rice compete in] => [events stephanie rice compete]\n",
      "[what highschool did bill gates graduated from] => [highschool bill gates graduated]\n",
      "[who did the voice of kitt in knight rider] => [voice kitt knight rider]\n",
      "[what airport do you fly into to get to cabo san lucas] => [airport fly get cabo san lucas]\n",
      "[who is the coach of inter milan now] => [coach inter milan]\n",
      "[where is bob marley grave] => [bob marley grave]\n",
      "[what wild animals live in colorado] => [wild animals live colorado]\n",
      "[which city held the summer olympics twice] => [city held summer olympics]\n",
      "[what currency does brazil use] => [currency brazil use]\n",
      "[what government did japan have] => [government japan]\n",
      "[what language does people in netherlands speak] => [language people netherlands speak]\n",
      "[what type of government is the us government] => [type government government]\n",
      "[what movies did jj abrams direct] => [movies jj abrams direct]\n",
      "[what did ronnie radke do] => [ronnie radke]\n",
      "[what club does ronaldinho play for] => [club ronaldinho play]\n",
      "[what did jordyn wieber win gold for] => [jordyn win gold]\n",
      "[who did john fox coach for] => [john fox coach]\n",
      "[what is there to see near the grand canyon] => [see grand canyon]\n",
      "[what teams did manny ramirez play for] => [teams manny ramirez play]\n",
      "[what is the name of money in brazil] => [name money brazil]\n",
      "[who played as barney] => [played barney]\n",
      "[what should you see in london] => [see london]\n",
      "[where robert frost went to school] => [robert frost went school]\n",
      "[what films has kristen stewart starred in] => [films kristen starred]\n",
      "[what movies johnny depp is in] => [movies johnny depp]\n",
      "[who did russians descend from] => [russians descend]\n",
      "[what musical instruments did duke ellington play] => [musical instruments duke ellington play]\n",
      "[what position did george washington serve in the constitutional convention] => [position george washington serve constitutional convention]\n",
      "[what kinda music does john mayer sing] => [kinda music john mayer sing]\n",
      "[what state is george washington university located in] => [state george washington university located]\n",
      "[who did bynum get traded to] => [bynum get traded]\n",
      "[what is the current time in nigeria lagos] => [current time nigeria lagos]\n",
      "[who was the colts coach in] => [colts coach]\n",
      "[who did ayrton senna drive for] => [ayrton senna drive]\n",
      "[who was the general for the british in the revolutionary war] => [general british revolutionary war]\n",
      "[who is my state senator and representative minnesota] => [state senator representative minnesota]\n",
      "[what places made up the western roman empire] => [places made western roman empire]\n",
      "[what is the official language of china] => [official language china]\n",
      "[what college did steve jobs attend] => [college steve jobs attend]\n",
      "[where did henry hudson come from] => [henry hudson come]\n",
      "[what did the harlem renaissance created] => [harlem renaissance created]\n",
      "[what continent does the amazon river flow through] => [continent amazon river flow]\n",
      "[what language do irish people speak] => [language irish people speak]\n",
      "[what has ian somerhalder played in] => [ian somerhalder played]\n",
      "[who is the prime minister of ethiopia now] => [prime minister ethiopia]\n",
      "[what type of voting system does the uk have] => [type voting system uk]\n",
      "[who was the first russian president] => [russian president]\n",
      "[who played elaine on doc martin] => [played elaine doc martin]\n",
      "[what is the language called in russia] => [language called russia]\n",
      "[what songs did mozart write] => [songs mozart write]\n",
      "[who is robert downey jr wife] => [robert downey jr wife]\n",
      "[who is angelina jolie husband name] => [jolie husband name]\n",
      "[when last did real madrid win the champions league] => [last real madrid win champions league]\n",
      "[what the currency in argentina] => [currency argentina]\n",
      "[who killed harvey milk] => [killed harvey milk]\n",
      "[who won the super bowl xliv] => [super bowl xliv]\n",
      "[where is jay cutler now] => [jay cutler]\n",
      "[what year was the first miss america pageant] => [year miss america pageant]\n",
      "[who plays stewie griffin on family guy] => [plays stewie griffin family guy]\n",
      "[what high school did president bill clinton attend] => [high school president bill clinton attend]\n",
      "[what is the postcode for london] => [postcode london]\n",
      "[what happened to the battle of shiloh] => [happened battle shiloh]\n",
      "[what time zone is london in right now] => [time london right]\n",
      "[where great britain located] => [great britain located]\n",
      "[what country was george washington from] => [country george washington]\n",
      "[what to do downtown san francisco] => [downtown san francisco]\n"
     ]
    }
   ],
   "source": [
    "import string\n",
    "import re\n",
    "from pickle import dump\n",
    "from unicodedata import normalize\n",
    "from numpy import array\n",
    " \n",
    "# load doc into memory\n",
    "def load_doc(filename):\n",
    "    # open the file as read only\n",
    "    file = open(filename, mode='rt', encoding='utf-8')\n",
    "    # read all text\n",
    "    text = file.read()\n",
    "    # close the file\n",
    "    file.close()\n",
    "    return text\n",
    " \n",
    "# split a loaded document into sentences\n",
    "def to_pairs(doc):\n",
    "    lines = doc.strip().split('\\n')\n",
    "    pairs = [line.split('\\t') for line in  lines]\n",
    "    return pairs\n",
    " \n",
    "# clean a list of lines\n",
    "def clean_pairs(lines):\n",
    "    cleaned = list()\n",
    "    # prepare regex for char filtering\n",
    "    re_print = re.compile('[^%s]' % re.escape(string.printable))\n",
    "    # prepare translation table for removing punctuation\n",
    "    table = str.maketrans('', '', string.punctuation)\n",
    "    for pair in lines:\n",
    "        clean_pair = list()\n",
    "        for line in pair:\n",
    "            # normalize unicode characters\n",
    "            line = normalize('NFD', line).encode('ascii', 'ignore')\n",
    "            line = line.decode('UTF-8')\n",
    "            # tokenize on white space\n",
    "            line = line.split()\n",
    "            # convert to lowercase\n",
    "            line = [word.lower() for word in line]\n",
    "            # remove punctuation from each token\n",
    "            line = [word.translate(table) for word in line]\n",
    "            # remove non-printable chars form each token\n",
    "            line = [re_print.sub('', w) for w in line]\n",
    "            # remove tokens with numbers in them\n",
    "            line = [word for word in line if word.isalpha()]\n",
    "            # store as string\n",
    "            clean_pair.append(' '.join(line))\n",
    "        cleaned.append(clean_pair)\n",
    "    return array(cleaned)\n",
    " \n",
    "# save a list of clean sentences to file\n",
    "def save_clean_data(sentences, filename):\n",
    "    dump(sentences, open(filename, 'wb'))\n",
    "    print('Saved: %s' % filename)\n",
    "\n",
    "    # load dataset\n",
    "filename = 'dataset.txt'\n",
    "doc = load_doc(filename)\n",
    "# split into english-german pairs\n",
    "pairs = to_pairs(doc)\n",
    "# clean sentences\n",
    "clean_pairs = clean_pairs(pairs)\n",
    "# save clean pairs to file\n",
    "save_clean_data(clean_pairs, 'k2q.pkl')\n",
    "# spot check\n",
    "for i in range(100):\n",
    "    print('[%s] => [%s]' % (clean_pairs[i,0], clean_pairs[i,1]))"
   ]
  },
  {
   "cell_type": "code",
   "execution_count": 12,
   "metadata": {},
   "outputs": [
    {
     "name": "stdout",
     "output_type": "stream",
     "text": [
      "Saved: k2q-both.pkl\n",
      "Saved: k2q-train.pkl\n",
      "Saved: k2q-test.pkl\n"
     ]
    }
   ],
   "source": [
    "from pickle import load\n",
    "from pickle import dump\n",
    "from numpy.random import rand\n",
    "from numpy.random import shuffle\n",
    " \n",
    "# load a clean dataset\n",
    "def load_clean_sentences(filename):\n",
    "    return load(open(filename, 'rb'))\n",
    " \n",
    "# save a list of clean sentences to file\n",
    "def save_clean_data(sentences, filename):\n",
    "    dump(sentences, open(filename, 'wb'))\n",
    "    print('Saved: %s' % filename)\n",
    "\n",
    "raw_dataset = load_clean_sentences('k2q.pkl')\n",
    " \n",
    "# reduce dataset size\n",
    "n_sentences = 10000\n",
    "dataset = raw_dataset[:, :]\n",
    "# random shuffle\n",
    "shuffle(dataset)\n",
    "# split into train/test\n",
    "train, test = dataset[:2100], dataset[2100:]\n",
    "# save\n",
    "save_clean_data(dataset, 'k2q-both.pkl')\n",
    "save_clean_data(train, 'k2q-train.pkl')\n",
    "save_clean_data(test, 'k2q-test.pkl')"
   ]
  },
  {
   "cell_type": "code",
   "execution_count": 13,
   "metadata": {},
   "outputs": [],
   "source": [
    "import numpy as np\n",
    "voc=np.array(list(dataset[:,1])+list(keywords),dtype='U74')"
   ]
  },
  {
   "cell_type": "markdown",
   "metadata": {},
   "source": [
    "# Training RNN model"
   ]
  },
  {
   "cell_type": "code",
   "execution_count": 14,
   "metadata": {},
   "outputs": [
    {
     "name": "stderr",
     "output_type": "stream",
     "text": [
      "Using TensorFlow backend.\n"
     ]
    },
    {
     "name": "stdout",
     "output_type": "stream",
     "text": [
      "Question Vocabulary Size: 2690\n",
      "Question Max Length : 13\n",
      "Keyword Vocabulary Size: 2510\n",
      "Keyword Max Length: 7\n",
      "_________________________________________________________________\n",
      "Layer (type)                 Output Shape              Param #   \n",
      "=================================================================\n",
      "embedding_1 (Embedding)      (None, 7, 256)            642560    \n",
      "_________________________________________________________________\n",
      "lstm_1 (LSTM)                (None, 256)               525312    \n",
      "_________________________________________________________________\n",
      "repeat_vector_1 (RepeatVecto (None, 13, 256)           0         \n",
      "_________________________________________________________________\n",
      "lstm_2 (LSTM)                (None, 13, 256)           525312    \n",
      "_________________________________________________________________\n",
      "time_distributed_1 (TimeDist (None, 13, 2690)          691330    \n",
      "=================================================================\n",
      "Total params: 2,384,514\n",
      "Trainable params: 2,384,514\n",
      "Non-trainable params: 0\n",
      "_________________________________________________________________\n",
      "None\n",
      "Train on 2100 samples, validate on 135 samples\n",
      "Epoch 1/20\n",
      " - 27s - loss: 5.5659 - val_loss: 4.1718\n",
      "\n",
      "Epoch 00001: val_loss improved from inf to 4.17180, saving model to modelcopy.h5\n",
      "Epoch 2/20\n",
      " - 18s - loss: 3.8588 - val_loss: 3.8844\n",
      "\n",
      "Epoch 00002: val_loss improved from 4.17180 to 3.88444, saving model to modelcopy.h5\n",
      "Epoch 3/20\n",
      " - 17s - loss: 3.4846 - val_loss: 3.4620\n",
      "\n",
      "Epoch 00003: val_loss improved from 3.88444 to 3.46205, saving model to modelcopy.h5\n",
      "Epoch 4/20\n",
      " - 17s - loss: 3.1151 - val_loss: 3.2485\n",
      "\n",
      "Epoch 00004: val_loss improved from 3.46205 to 3.24847, saving model to modelcopy.h5\n",
      "Epoch 5/20\n",
      " - 17s - loss: 2.9503 - val_loss: 3.1547\n",
      "\n",
      "Epoch 00005: val_loss improved from 3.24847 to 3.15469, saving model to modelcopy.h5\n",
      "Epoch 6/20\n",
      " - 17s - loss: 2.8655 - val_loss: 3.1280\n",
      "\n",
      "Epoch 00006: val_loss improved from 3.15469 to 3.12799, saving model to modelcopy.h5\n",
      "Epoch 7/20\n",
      " - 17s - loss: 2.8011 - val_loss: 3.1090\n",
      "\n",
      "Epoch 00007: val_loss improved from 3.12799 to 3.10895, saving model to modelcopy.h5\n",
      "Epoch 8/20\n",
      " - 17s - loss: 2.7524 - val_loss: 3.1034\n",
      "\n",
      "Epoch 00008: val_loss improved from 3.10895 to 3.10338, saving model to modelcopy.h5\n",
      "Epoch 9/20\n",
      " - 17s - loss: 2.7165 - val_loss: 3.1219\n",
      "\n",
      "Epoch 00009: val_loss did not improve from 3.10338\n",
      "Epoch 10/20\n",
      " - 17s - loss: 2.6863 - val_loss: 3.1146\n",
      "\n",
      "Epoch 00010: val_loss did not improve from 3.10338\n",
      "Epoch 11/20\n",
      " - 17s - loss: 2.6491 - val_loss: 3.1086\n",
      "\n",
      "Epoch 00011: val_loss did not improve from 3.10338\n",
      "Epoch 12/20\n",
      " - 17s - loss: 2.6206 - val_loss: 3.1105\n",
      "\n",
      "Epoch 00012: val_loss did not improve from 3.10338\n",
      "Epoch 13/20\n",
      " - 17s - loss: 2.5936 - val_loss: 3.1134\n",
      "\n",
      "Epoch 00013: val_loss did not improve from 3.10338\n",
      "Epoch 14/20\n",
      " - 17s - loss: 2.5619 - val_loss: 3.1301\n",
      "\n",
      "Epoch 00014: val_loss did not improve from 3.10338\n",
      "Epoch 15/20\n",
      " - 17s - loss: 2.5346 - val_loss: 3.1202\n",
      "\n",
      "Epoch 00015: val_loss did not improve from 3.10338\n",
      "Epoch 16/20\n",
      " - 17s - loss: 2.5079 - val_loss: 3.1409\n",
      "\n",
      "Epoch 00016: val_loss did not improve from 3.10338\n",
      "Epoch 17/20\n",
      " - 17s - loss: 2.4827 - val_loss: 3.1418\n",
      "\n",
      "Epoch 00017: val_loss did not improve from 3.10338\n",
      "Epoch 18/20\n",
      " - 17s - loss: 2.4543 - val_loss: 3.1269\n",
      "\n",
      "Epoch 00018: val_loss did not improve from 3.10338\n",
      "Epoch 19/20\n",
      " - 17s - loss: 2.4215 - val_loss: 3.1309\n",
      "\n",
      "Epoch 00019: val_loss did not improve from 3.10338\n",
      "Epoch 20/20\n",
      " - 17s - loss: 2.3948 - val_loss: 3.1267\n",
      "\n",
      "Epoch 00020: val_loss did not improve from 3.10338\n"
     ]
    },
    {
     "data": {
      "text/plain": [
       "<keras.callbacks.History at 0x22bf3cfa630>"
      ]
     },
     "execution_count": 14,
     "metadata": {},
     "output_type": "execute_result"
    }
   ],
   "source": [
    "from pickle import load\n",
    "from numpy import array\n",
    "from keras.preprocessing.text import Tokenizer\n",
    "from keras.preprocessing.sequence import pad_sequences\n",
    "from keras.utils import to_categorical\n",
    "from keras.utils.vis_utils import plot_model\n",
    "from keras.models import Sequential\n",
    "from keras.layers import LSTM\n",
    "from keras.layers import Dense\n",
    "from keras.layers import Embedding\n",
    "from keras.layers import RepeatVector\n",
    "from keras.layers import TimeDistributed\n",
    "from keras.callbacks import ModelCheckpoint\n",
    " \n",
    "# load a clean dataset\n",
    "def load_clean_sentences(filename):\n",
    "    return load(open(filename, 'rb'))\n",
    " \n",
    "# fit a tokenizer\n",
    "def create_tokenizer(lines):\n",
    "    tokenizer = Tokenizer()\n",
    "    tokenizer.fit_on_texts(lines)\n",
    "    return tokenizer\n",
    " \n",
    "# max sentence length\n",
    "def max_length(lines):\n",
    "    return max(len(line.split()) for line in lines)\n",
    " \n",
    "# encode and pad sequences\n",
    "def encode_sequences(tokenizer, length, lines):\n",
    "    # integer encode sequences\n",
    "    X = tokenizer.texts_to_sequences(lines)\n",
    "    # pad sequences with 0 values\n",
    "    X = pad_sequences(X, maxlen=length, padding='post')\n",
    "    return X\n",
    " \n",
    "# one hot encode target sequence\n",
    "def encode_output(sequences, vocab_size):\n",
    "    ylist = list()\n",
    "    for sequence in sequences:\n",
    "        encoded = to_categorical(sequence, num_classes=vocab_size)\n",
    "        ylist.append(encoded)\n",
    "    y = array(ylist)\n",
    "    y = y.reshape(sequences.shape[0], sequences.shape[1], vocab_size)\n",
    "    return y\n",
    " \n",
    "# define RNN model\n",
    "def define_model(src_vocab, tar_vocab, src_timesteps, tar_timesteps, n_units):\n",
    "    model = Sequential()\n",
    "    model.add(Embedding(src_vocab, n_units, input_length=src_timesteps, mask_zero=True))\n",
    "    model.add(LSTM(n_units))\n",
    "    model.add(RepeatVector(tar_timesteps))\n",
    "    model.add(LSTM(n_units, return_sequences=True))\n",
    "    model.add(TimeDistributed(Dense(tar_vocab, activation='softmax')))\n",
    "    return model\n",
    " \n",
    "# load datasets\n",
    "dataset = load_clean_sentences('k2q-both.pkl')\n",
    "train = load_clean_sentences('k2q-train.pkl')\n",
    "test = load_clean_sentences('k2q-test.pkl')\n",
    " \n",
    "# prepare question tokenizer\n",
    "q_tokenizer = create_tokenizer(dataset[:, 0])\n",
    "q_vocab_size = len(q_tokenizer.word_index) + 1\n",
    "q_length = max_length(dataset[:, 0])\n",
    "print('Question Vocabulary Size: %d' % q_vocab_size)\n",
    "print('Question Max Length : %d' % (q_length))\n",
    "# prepare keyword tokenizer\n",
    "k_tokenizer = create_tokenizer(voc)\n",
    "k_vocab_size = len(k_tokenizer.word_index) + 1\n",
    "k_length = max_length(voc)\n",
    "print('Keyword Vocabulary Size: %d' % k_vocab_size)\n",
    "print('Keyword Max Length: %d' % (k_length))\n",
    " \n",
    "# prepare training data\n",
    "trainX = encode_sequences(k_tokenizer, k_length, train[:, 1])\n",
    "trainY = encode_sequences(q_tokenizer, q_length, train[:, 0])\n",
    "z=trainY[:]\n",
    "\n",
    "trainY = encode_output(trainY, q_vocab_size)\n",
    "\n",
    "testX = encode_sequences(k_tokenizer, k_length, test[:, 1])\n",
    "testY = encode_sequences(q_tokenizer, q_length, test[:, 0])\n",
    "\n",
    "testY = encode_output(testY, q_vocab_size)\n",
    "\n",
    " \n",
    "# define model\n",
    "model = define_model(k_vocab_size, q_vocab_size, k_length, q_length, 256)\n",
    "model.compile(optimizer='adam', loss='categorical_crossentropy')\n",
    "\n",
    "print(model.summary())\n",
    "\n",
    "filename = 'modelcopy.h5'\n",
    "checkpoint = ModelCheckpoint(filename, monitor='val_loss', verbose=1, save_best_only=True, mode='min')\n",
    "model.fit(trainX, trainY, epochs=20, batch_size=64, validation_data=(testX, testY), callbacks=[checkpoint], verbose=2)"
   ]
  },
  {
   "cell_type": "code",
   "execution_count": 36,
   "metadata": {},
   "outputs": [
    {
     "name": "stdout",
     "output_type": "stream",
     "text": [
      "test:\n",
      "src=[current queen australia], target=[who is the current queen of australia], predicted=[what is the current queen australia]\n",
      "src=[fairfield], target=[what to do at fairfield ca], predicted=[what what is fairfield]\n",
      "src=[year spudd webb dunk contest], target=[what year did spudd webb won the dunk contest], predicted=[what did did year spudd webb dunk contest]\n",
      "src=[played maxie jones general hospital], target=[who played maxie jones on general hospital], predicted=[what is the played maxie jones general hospital]\n",
      "src=[major languages italy], target=[what are the major languages of italy], predicted=[what is the major languages italy]\n",
      "src=[language speak indonesia], target=[what language do they speak in indonesia], predicted=[what is the language speak indonesia]\n",
      "src=[st francis patron saint], target=[what is st francis patron saint of], predicted=[what is the st francis patron saint]\n",
      "src=[kids phx az], target=[what to do with kids in phx az], predicted=[what is the kids phx az]\n",
      "src=[kind money uk use], target=[what kind of money does the uk use], predicted=[what did the kind money uk use]\n",
      "src=[played atticus finch movie], target=[who played atticus finch in the movie], predicted=[what is the played atticus finch movie]\n",
      "src=[plays alan parrish jumanji], target=[who plays alan parrish in jumanji], predicted=[what is the plays alan parrish jumanji]\n",
      "src=[hugh hefner dating], target=[who is hugh hefner dating now in], predicted=[what is the hugh hefner dating]\n",
      "src=[cristiano ronaldo play], target=[who does cristiano ronaldo play for now], predicted=[what is the cristiano ronaldo play]\n",
      "src=[countries part united kingdom], target=[which countries are part of the united kingdom], predicted=[what did the countries part united kingdom]\n",
      "src=[celtics win championship], target=[when did the celtics win championship], predicted=[what is the celtics win championship]\n",
      "src=[jobs albert einstein], target=[what jobs did albert einstein have], predicted=[what is the jobs albert einstein]\n",
      "src=[things thomas edison invented], target=[what are all the things thomas edison invented], predicted=[what is the things thomas edison invented]\n",
      "src=[matthew brady live], target=[where did matthew brady live], predicted=[what is the matthew brady live]\n",
      "src=[happen greece defaults], target=[what will happen to greece when it defaults], predicted=[what is the happen greece defaults]\n",
      "src=[current president colombia], target=[who is the current president of colombia], predicted=[what is the current president colombia]\n",
      "src=[plays hannah montana], target=[who plays the brother in hannah montana], predicted=[what is the plays hannah montana]\n",
      "src=[corey haim act], target=[what did corey haim act in], predicted=[what is the corey haim act]\n",
      "src=[leader japan right], target=[who is the leader of japan right now], predicted=[what did the leader japan right]\n",
      "src=[countries queen elizabeth ii reign], target=[what countries does queen elizabeth ii reign], predicted=[what did the countries queen elizabeth ii reign]\n",
      "src=[fun things philadelphia], target=[what are fun things to do in philadelphia], predicted=[what is the fun things philadelphia]\n",
      "src=[queen victoria queen], target=[what was queen victoria queen of], predicted=[what is the queen victoria queen]\n",
      "src=[year lakers win first championship], target=[what year did lakers win their first championship], predicted=[what did the year lakers win first championship]\n",
      "src=[traditions jamaica], target=[what are the traditions in jamaica], predicted=[what is the traditions jamaica]\n",
      "src=[last year nfl super bowl], target=[who won last years nfl super bowl], predicted=[what did did last year nfl super bowl]\n",
      "src=[discovered], target=[who was neptune discovered by], predicted=[what what is discovered]\n",
      "src=[government japan], target=[what government did japan have], predicted=[what is the government japan]\n",
      "src=[first leader afl], target=[who was the first leader of the afl], predicted=[what is the first leader afl]\n",
      "src=[beth tweddle compete], target=[what does beth tweddle compete in], predicted=[what is the beth tweddle compete]\n",
      "src=[name wright brothers plane], target=[what was the name of wright brothers plane], predicted=[what did the name wright brothers plane]\n",
      "src=[mario lopez marry], target=[who did mario lopez just marry], predicted=[what is the mario lopez marry]\n",
      "src=[official language china], target=[what is the official language of china], predicted=[what is the official language china]\n",
      "src=[team hank baskett play season], target=[what team does hank baskett play for season], predicted=[what did the team hank baskett play season]\n",
      "src=[voice family guys meg griffin], target=[who is the voice of family guys meg griffin], predicted=[what did the voice family guys meg griffin]\n",
      "src=[owns wikimedia foundation], target=[who owns wikimedia foundation], predicted=[what is the owns wikimedia foundation]\n",
      "src=[things thomas edison invent], target=[what things did thomas edison invent], predicted=[what is the things thomas edison invent]\n",
      "src=[currency used england], target=[what currency is used in england], predicted=[what is the currency used england]\n",
      "src=[team shaq play], target=[what team did shaq play for first], predicted=[what is the team shaq play]\n",
      "src=[theodore roosevelt political party], target=[what was theodore roosevelts political party], predicted=[what is the theodore roosevelt political party]\n",
      "src=[type money japanese use], target=[what type of money do japanese use], predicted=[what did the type money japanese use]\n",
      "src=[type government england glorious revolution], target=[what type of government did england have during the glorious revolution], predicted=[what did did type government england glorious revolution]\n",
      "src=[college kerry collins], target=[what college did kerry collins], predicted=[what is the college kerry collins]\n",
      "src=[movies kristen stewart act], target=[what movies did kristen stewart act in], predicted=[what is the movies kristen stewart act]\n",
      "src=[obama degree], target=[what does obama have a degree in], predicted=[what is the obama degree]\n",
      "src=[kind money use costa rica], target=[what kind of money do you use in costa rica], predicted=[what did the kind money use costa rica]\n",
      "src=[south carolina located], target=[where is south carolina located], predicted=[what is the south carolina located]\n",
      "src=[see dallas tx], target=[what to see in dallas tx], predicted=[what is the see dallas tx]\n",
      "src=[voices lola bunny looney tunes], target=[who voices lola bunny in looney tunes], predicted=[what did the voices lola bunny looney tunes]\n",
      "src=[inspired scott fitzgerald], target=[what inspired scott fitzgerald], predicted=[what is the inspired scott fitzgerald]\n",
      "src=[season tony soprano get shot], target=[what season did tony soprano get shot], predicted=[what did the season tony soprano get shot]\n",
      "src=[john steinbeck known], target=[what is john steinbeck best known for], predicted=[what is the john steinbeck known]\n",
      "src=[kirk herbstreit], target=[where did kirk herbstreit], predicted=[what what is kirk herbstreit]\n",
      "src=[matthias schleiden work], target=[where did matthias schleiden do his work], predicted=[what is the matthias schleiden work]\n",
      "src=[kind government mongolia], target=[what kind of government does mongolia], predicted=[what is the kind government mongolia]\n",
      "src=[language people czech republic speak], target=[what language do people in czech republic speak], predicted=[what did the language people czech republic speak]\n",
      "src=[liz taylor married], target=[who was liz taylor married too], predicted=[what is the liz taylor married]\n",
      "src=[year zheng travels china], target=[what year did zheng he travels for china], predicted=[what is the year zheng travels china]\n",
      "src=[owns chrysler corporation], target=[who owns chrysler corporation], predicted=[what is the owns chrysler corporation]\n",
      "src=[countries make great britain capitals], target=[what countries make up great britain and what are their capitals], predicted=[what did did countries make great britain capitals]\n",
      "src=[names walt disney kids], target=[what are the names of walt disney kids], predicted=[what did the names walt disney kids]\n",
      "src=[chicago bulls win first championship], target=[when did the chicago bulls win their first championship], predicted=[what did the chicago bulls win first championship]\n",
      "src=[volga river start], target=[where does volga river start], predicted=[what is the volga river start]\n",
      "src=[language native american indians speak], target=[what language do native american indians speak], predicted=[what did the language native american indians speak]\n",
      "src=[australia call money], target=[what do australia call their money], predicted=[what is the australia call money]\n",
      "src=[book niccolo machiavelli write], target=[what book did niccolo machiavelli write], predicted=[what is the book niccolo machiavelli write]\n",
      "src=[played elle greenaway], target=[who played elle greenaway], predicted=[what is the played elle greenaway]\n",
      "src=[countries part nato], target=[what countries are part of nato], predicted=[what is did countries part nato]\n",
      "src=[region czech republic], target=[what region is czech republic in], predicted=[what is the region czech republic]\n",
      "src=[religions practiced afghanistan], target=[what religions are practiced in afghanistan], predicted=[what is the religions practiced afghanistan]\n"
     ]
    },
    {
     "name": "stdout",
     "output_type": "stream",
     "text": [
      "src=[president jfk died], target=[who was the president after jfk died], predicted=[what did the president jfk died]\n",
      "src=[college charles richard drew go], target=[what college did charles richard drew go to], predicted=[what did the college charles richard drew go]\n",
      "src=[airport daytona beach florida], target=[what airport is close to daytona beach florida], predicted=[what did the airport daytona beach florida]\n",
      "src=[chad michael murray play], target=[what does chad michael murray play in], predicted=[what did the chad michael murray play]\n",
      "src=[currency use costa rica], target=[what currency do you use in costa rica], predicted=[what did the currency use costa rica]\n",
      "src=[kansas city chiefs play], target=[where do the kansas city chiefs play], predicted=[what did the kansas city chiefs play]\n",
      "src=[discovery sir isaac make force], target=[what discovery did sir isaac newton make about force], predicted=[what did the discovery sir isaac make force]\n",
      "src=[al arabic names], target=[what is al in arabic names], predicted=[what is the al arabic names]\n",
      "src=[origin turkish language], target=[what is the origin of the turkish language], predicted=[what is the origin turkish language]\n",
      "src=[business raj kundra], target=[what business does raj kundra do], predicted=[what is the business raj kundra]\n",
      "src=[malcom floyd play], target=[who does malcom floyd play for], predicted=[what is the malcom floyd play]\n",
      "src=[kim kardashian first husband], target=[who was kim kardashians first husband], predicted=[what is the kim kardashian first husband]\n",
      "src=[portuguese language come], target=[where does portuguese language come from], predicted=[what is the portuguese language come]\n",
      "src=[countries speak german first language], target=[what countries speak german as a first language], predicted=[what did the countries speak german first language]\n",
      "src=[aurora colorado shooting take place], target=[when did the aurora colorado shooting take place], predicted=[what is the aurora colorado shooting take place]\n",
      "src=[played carlton banks], target=[who played carlton banks], predicted=[what is the played carlton banks]\n",
      "src=[played nba last night], target=[who played nba last night], predicted=[what is the played nba last night]\n",
      "src=[john beck play], target=[who does john beck play for], predicted=[what is the john beck play]\n",
      "src=[plays captain kirk], target=[who plays captain kirk in], predicted=[what is the plays captain kirk]\n",
      "src=[time london heathrow], target=[what time is in london heathrow], predicted=[what did the time london heathrow]\n",
      "src=[war abraham lincoln serve president], target=[during what war did abraham lincoln serve as president], predicted=[what did the war abraham lincoln serve president]\n",
      "src=[drew stanton play college], target=[where did drew stanton play in college], predicted=[what did the drew stanton play college]\n",
      "src=[best currency take egypt], target=[what is the best currency to take to egypt], predicted=[what did the best currency take egypt]\n",
      "src=[james baldwin go school], target=[where did james baldwin go to school], predicted=[what is the james baldwin go school]\n",
      "src=[george play cheers], target=[who did george wendt play on cheers], predicted=[what is the george play cheers]\n",
      "src=[songs whitney houston], target=[what songs did whitney houston], predicted=[what is the songs whitney houston]\n",
      "src=[william shakespeare perform plays], target=[where did william shakespeare perform most of his plays], predicted=[what did the william shakespeare perform plays]\n",
      "src=[college jeff corwin go], target=[what college did jeff corwin go to], predicted=[what is the college jeff corwin go]\n",
      "src=[lamar odom playing], target=[who is lamar odom playing for in], predicted=[what is the lamar odom playing]\n",
      "src=[kinda music john mayer sing], target=[what kinda music does john mayer sing], predicted=[what did the kinda music john mayer sing]\n",
      "src=[selena gomez raised], target=[where was selena gomez raised], predicted=[what is the selena gomez raised]\n",
      "src=[movies robert blake play], target=[what movies did robert blake play in], predicted=[what did the movies robert blake play]\n",
      "src=[go phnom penh cambodia], target=[where to go in phnom penh cambodia], predicted=[what did did go phnom penh cambodia]\n",
      "src=[become artist], target=[escher to become an artist], predicted=[what what is become artist]\n",
      "src=[team kris humphries play], target=[what team does kris humphries play for in], predicted=[what is the team kris humphries play]\n",
      "src=[wellsville missouri], target=[where is wellsville missouri], predicted=[what is the wellsville missouri]\n",
      "src=[real life examples darwin theory evolution], target=[what are real life examples of darwins theory of evolution], predicted=[what did the real life examples darwin theory evolution]\n",
      "src=[nfl redskins], target=[where are the nfl redskins from], predicted=[what is the nfl redskins]\n",
      "src=[tennessee smoky mountains], target=[where in tennessee are the smoky mountains], predicted=[what is the tennessee smoky mountains]\n",
      "src=[kobe bryant attend high school], target=[where did kobe bryant attend high school], predicted=[what is the kobe bryant attend high school]\n",
      "src=[tupac grew], target=[where tupac grew up], predicted=[what is the tupac grew]\n",
      "src=[bill richardson live], target=[where does bill richardson live], predicted=[what is the bill richardson live]\n",
      "src=[difference infectious diseases communicable diseases], target=[what is the difference between infectious diseases and communicable diseases], predicted=[what is the difference infectious diseases communicable diseases]\n",
      "src=[name nazi come], target=[where did the name nazi come from], predicted=[what is the name nazi come]\n",
      "src=[government spain today], target=[what is the government of spain today], predicted=[what is the government spain today]\n",
      "src=[language denmark], target=[what language do they denmark], predicted=[what is the language denmark]\n",
      "src=[time nebraska], target=[what time is nebraska now], predicted=[what is the time nebraska]\n",
      "src=[writers influenced charles dickens], target=[what other writers influenced charles dickens], predicted=[what is the writers influenced charles dickens]\n",
      "src=[sam bradford play], target=[where does sam bradford play], predicted=[what is the sam bradford play]\n",
      "src=[kakadu national park located], target=[where is the kakadu national park located], predicted=[what is the kakadu national park located]\n",
      "src=[bass jared followill use], target=[what bass does jared followill use], predicted=[what is the bass jared followill use]\n",
      "src=[summer olympics held], target=[when are the summer olympics held], predicted=[what is the summer olympics held]\n",
      "src=[tupac shakur date], target=[who did tupac shakur date], predicted=[what is the tupac shakur date]\n",
      "src=[character natalie portman play star wars], target=[what character did natalie portman play in star wars], predicted=[what did the character natalie portman play star wars]\n",
      "src=[jay cutler], target=[where is jay cutler now], predicted=[what is the jay cutler]\n",
      "src=[general british revolutionary war], target=[who was the general for the british in the revolutionary war], predicted=[what is the general british revolutionary war]\n",
      "src=[palm springs], target=[what can you do in palm springs ca], predicted=[what is is palm springs]\n",
      "src=[midland tx weekend], target=[what to do in midland tx this weekend], predicted=[what is the midland tx weekend]\n",
      "src=[mister rogers tv], target=[what did mister rogers do before tv], predicted=[what is the mister rogers tv]\n",
      "src=[whistler mountain located], target=[where is whistler mountain located], predicted=[what is the whistler mountain located]\n",
      "src=[bali bombings occur], target=[when did the bali bombings occur], predicted=[what is the bali bombings occur]\n",
      "src=[major imports united states], target=[what are the major imports of the united states], predicted=[what did did major imports united states]\n",
      "\n",
      "Question Answer pairs:\n",
      "predicted question=[what is the Bacterium causes Disorders?]  answer=[Cell_or_Molecular_Dysfunction]\n",
      "predicted question=[what did the Bacterium interacts_with Living_Beings?]  answer=[Amphibian]\n",
      "predicted question=[what is the Bacterium isa Objects?]  answer=[Entity]\n",
      "predicted question=[what is the Bacterium issue_in Occupations?]  answer=[Biomedical_Occupation_or_Discipline]\n",
      "predicted question=[what did the Bacterium location_of Chemicals_&_Drugs?]  answer=[Biologically_Active_Substance]\n",
      "predicted question=[what did the Acquired_Abnormality affects Living_Beings?]  answer=[Bacterium]\n",
      "predicted question=[what did the Immunologic_Factor indicates Living_Beings?]  answer=[Bacterium]\n",
      "predicted question=[what did the Alga interacts_with Living_Beings?]  answer=[Bacterium]\n",
      "predicted question=[what did the Acquired_Abnormality location_of Living_Beings?]  answer=[Bacterium]\n",
      "predicted question=[what did the Acquired_Abnormality part_of Living_Beings?]  answer=[Bacterium]\n",
      "predicted question=[what did the Biologic_Function process_of Living_Beings?]  answer=[Bacterium]\n"
     ]
    },
    {
     "name": "stdout",
     "output_type": "stream",
     "text": [
      "predicted question=[what did the Clinical_Attribute property_of Living_Beings?]  answer=[Bacterium]\n"
     ]
    }
   ],
   "source": [
    "from pickle import load\n",
    "from numpy import array\n",
    "from numpy import argmax\n",
    "from keras.preprocessing.text import Tokenizer\n",
    "from keras.preprocessing.sequence import pad_sequences\n",
    "from keras.models import load_model\n",
    "from nltk.translate.bleu_score import corpus_bleu\n",
    " \n",
    "# load a clean dataset\n",
    "def load_clean_sentences(filename):\n",
    "    return load(open(filename, 'rb'))\n",
    " \n",
    "# fit a tokenizer\n",
    "def create_tokenizer(lines):\n",
    "    tokenizer = Tokenizer()\n",
    "    tokenizer.fit_on_texts(lines)\n",
    "    return tokenizer\n",
    " \n",
    "# max sentence length\n",
    "def max_length(lines):\n",
    "    return max(len(line.split()) for line in lines)\n",
    " \n",
    "# encode and pad sequences\n",
    "def encode_sequences(tokenizer, length, lines):\n",
    "    # integer encode sequences\n",
    "    X = tokenizer.texts_to_sequences(lines)\n",
    "    # pad sequences with 0 values\n",
    "    X = pad_sequences(X, maxlen=length, padding='post')\n",
    "    return X\n",
    " \n",
    "# map an integer to a word\n",
    "def word_for_id(integer, tokenizer):\n",
    "    for word, index in tokenizer.word_index.items():\n",
    "        if index == integer:\n",
    "            return word\n",
    "    return None\n",
    " \n",
    "# generate target given source sequence\n",
    "def predict_sequence(model, tokenizer, source):\n",
    "    prediction = model.predict(source, verbose=0)[0]\n",
    "    integers = [argmax(vector) for vector in prediction]\n",
    "    target = list()\n",
    "    for i in integers:\n",
    "        word = word_for_id(i, tokenizer)\n",
    "        if word is None:\n",
    "            break\n",
    "        target.append(word)\n",
    "    return ' '.join(target)\n",
    " \n",
    "# evaluate the skill of the model\n",
    "def evaluate_model(model, tokenizer, sources, raw_dataset):\n",
    "    actual, predicted = list(), list()\n",
    "    k=list()\n",
    "    for i, source in enumerate(sources):\n",
    "        # translate encoded source text\n",
    "        source = source.reshape((1, source.shape[0]))\n",
    "        question = predict_sequence(model, tokenizer, source)\n",
    "        raw_target, raw_src = raw_dataset[i]\n",
    "        question = question.split()\n",
    "        question = ' '.join(question[:3])+' '+raw_src\n",
    "        \n",
    "        #if i < 10:\n",
    "        print('src=[%s], target=[%s], predicted=[%s]' % (raw_src, raw_target, question))\n",
    "        \n",
    "        actual.append(raw_target.split())\n",
    "        predicted.append(question.split())\n",
    "        k.append(raw_src.split())\n",
    "    # calculate BLEU score\n",
    "    #print(actual)\n",
    "    #print('k=',k)\n",
    "    return (actual,k,predicted)\n",
    "    \n",
    "def evaluate_model2(model, tokenizer, sources,keywords):\n",
    "    #actual, predicted = list(), list()\n",
    "    for i, source in enumerate(sources):\n",
    "        \n",
    "        source = source.reshape((1, source.shape[0]))\n",
    "        question = predict_sequence(model, tokenizer, source)\n",
    "        question = question.split()\n",
    "        question = ' '.join(question[:3])+' '+keywords[i]\n",
    "        #question= list(set(question.split()+keywords[i].split()))\n",
    "        #question = list(set((question+keywords[i]).split()))\n",
    "        #question = ' '.join(question)\n",
    "        print('predicted question=[%s]  answer=[%s]' % (question+'?',answers[i]))\n",
    "        \n",
    "\n",
    "    # load datasets\n",
    "'''dataset = load_clean_sentences('k2q-both.pkl')\n",
    "train = load_clean_sentences('k2q-train.pkl')\n",
    "test = load_clean_sentences('k2q-test.pkl')'''\n",
    "# prepare question tokenizer\n",
    "'''q_tokenizer = create_tokenizer(dataset[:, 0])\n",
    "q_vocab_size = len(q_tokenizer.word_index) + 1\n",
    "q_length = max_length(dataset[:, 0])\n",
    "# prepare keyword tokenizer\n",
    "k_tokenizer = create_tokenizer(dataset[:, 1])\n",
    "k_vocab_size = len(k_tokenizer.word_index) + 1\n",
    "k_length = max_length(dataset[:, 1])'''\n",
    "# prepare data\n",
    "trainX = encode_sequences(k_tokenizer, k_length, test[:, 1])\n",
    "testX = encode_sequences(k_tokenizer, k_length, keywords)\n",
    "\n",
    "#trainX.reshape((2100,13,1))\n",
    "#trainX=array(trainX,dtype=float)\n",
    "#testX.reshape((105,13,1))\n",
    "#testX=array(trainX,dtype=float)\n",
    " \n",
    "# load model\n",
    "model = load_model('modelcopy.h5')\n",
    "# test on some training sequences\n",
    "#print('train')\n",
    "#evaluate_model2(model, q_tokenizer, trainX)\n",
    "# test on some test sequences\n",
    "print('test:')\n",
    "actual,k,predicted=evaluate_model(model, q_tokenizer, trainX,test)\n",
    "\n",
    "#keywords=keywords.tolist()\n",
    "print('\\nQuestion Answer pairs:')\n",
    "evaluate_model2(model, q_tokenizer, testX,keywords)"
   ]
  },
  {
   "cell_type": "code",
   "execution_count": 26,
   "metadata": {},
   "outputs": [
    {
     "data": {
      "text/plain": [
       "array(['Bacterium causes Disorders',\n",
       "       'Bacterium interacts_with Living_Beings', 'Bacterium isa Objects',\n",
       "       'Bacterium issue_in Occupations',\n",
       "       'Bacterium location_of Chemicals_&_Drugs',\n",
       "       'Acquired_Abnormality affects Living_Beings',\n",
       "       'Immunologic_Factor indicates Living_Beings',\n",
       "       'Alga interacts_with Living_Beings',\n",
       "       'Acquired_Abnormality location_of Living_Beings',\n",
       "       'Acquired_Abnormality part_of Living_Beings',\n",
       "       'Biologic_Function process_of Living_Beings',\n",
       "       'Clinical_Attribute property_of Living_Beings'], dtype='<U74')"
      ]
     },
     "execution_count": 26,
     "metadata": {},
     "output_type": "execute_result"
    }
   ],
   "source": [
    "keywords"
   ]
  },
  {
   "cell_type": "markdown",
   "metadata": {},
   "source": [
    "# BLEU score"
   ]
  },
  {
   "cell_type": "code",
   "execution_count": 41,
   "metadata": {},
   "outputs": [
    {
     "name": "stdout",
     "output_type": "stream",
     "text": [
      "0.5887593466829465\n"
     ]
    }
   ],
   "source": [
    "import nltk\n",
    "sum1=0\n",
    "for i in range(len(actual)):\n",
    "    BLEUscore = nltk.translate.bleu_score.sentence_bleu([k1[i]], actual1[i])\n",
    "    #rint(BLEUscore)\n",
    "    sum1=sum1+BLEUscore\n",
    "print(sum1/len(actual))"
   ]
  },
  {
   "cell_type": "code",
   "execution_count": 37,
   "metadata": {
    "scrolled": true
   },
   "outputs": [
    {
     "name": "stdout",
     "output_type": "stream",
     "text": [
      "['who is the current queen of australia', 'what to do at fairfield ca', 'what year did spudd webb won the dunk contest', 'who played maxie jones on general hospital', 'what are the major languages of italy', 'what language do they speak in indonesia', 'what is st francis patron saint of', 'what to do with kids in phx az', 'what kind of money does the uk use', 'who played atticus finch in the movie', 'who plays alan parrish in jumanji', 'who is hugh hefner dating now in', 'who does cristiano ronaldo play for now', 'which countries are part of the united kingdom', 'when did the celtics win championship', 'what jobs did albert einstein have', 'what are all the things thomas edison invented', 'where did matthew brady live', 'what will happen to greece when it defaults', 'who is the current president of colombia', 'who plays the brother in hannah montana', 'what did corey haim act in', 'who is the leader of japan right now', 'what countries does queen elizabeth ii reign', 'what are fun things to do in philadelphia', 'what was queen victoria queen of', 'what year did lakers win their first championship', 'what are the traditions in jamaica', 'who won last years nfl super bowl', 'who was neptune discovered by', 'what government did japan have', 'who was the first leader of the afl', 'what does beth tweddle compete in', 'what was the name of wright brothers plane', 'who did mario lopez just marry', 'what is the official language of china', 'what team does hank baskett play for season', 'who is the voice of family guys meg griffin', 'who owns wikimedia foundation', 'what things did thomas edison invent', 'what currency is used in england', 'what team did shaq play for first', 'what was theodore roosevelts political party', 'what type of money do japanese use', 'what type of government did england have during the glorious revolution', 'what college did kerry collins', 'what movies did kristen stewart act in', 'what does obama have a degree in', 'what kind of money do you use in costa rica', 'where is south carolina located', 'what to see in dallas tx', 'who voices lola bunny in looney tunes', 'what inspired scott fitzgerald', 'what season did tony soprano get shot', 'what is john steinbeck best known for', 'where did kirk herbstreit', 'where did matthias schleiden do his work', 'what kind of government does mongolia', 'what language do people in czech republic speak', 'who was liz taylor married too', 'what year did zheng he travels for china', 'who owns chrysler corporation', 'what countries make up great britain and what are their capitals', 'what are the names of walt disney kids', 'when did the chicago bulls win their first championship', 'where does volga river start', 'what language do native american indians speak', 'what do australia call their money', 'what book did niccolo machiavelli write', 'who played elle greenaway', 'what countries are part of nato', 'what region is czech republic in', 'what religions are practiced in afghanistan', 'who was the president after jfk died', 'what college did charles richard drew go to', 'what airport is close to daytona beach florida', 'what does chad michael murray play in', 'what currency do you use in costa rica', 'where do the kansas city chiefs play', 'what discovery did sir isaac newton make about force', 'what is al in arabic names', 'what is the origin of the turkish language', 'what business does raj kundra do', 'who does malcom floyd play for', 'who was kim kardashians first husband', 'where does portuguese language come from', 'what countries speak german as a first language', 'when did the aurora colorado shooting take place', 'who played carlton banks', 'who played nba last night', 'who does john beck play for', 'who plays captain kirk in', 'what time is in london heathrow', 'during what war did abraham lincoln serve as president', 'where did drew stanton play in college', 'what is the best currency to take to egypt', 'where did james baldwin go to school', 'who did george wendt play on cheers', 'what songs did whitney houston', 'where did william shakespeare perform most of his plays', 'what college did jeff corwin go to', 'who is lamar odom playing for in', 'what kinda music does john mayer sing', 'where was selena gomez raised', 'what movies did robert blake play in', 'where to go in phnom penh cambodia', 'escher to become an artist', 'what team does kris humphries play for in', 'where is wellsville missouri', 'what are real life examples of darwins theory of evolution', 'where are the nfl redskins from', 'where in tennessee are the smoky mountains', 'where did kobe bryant attend high school', 'where tupac grew up', 'where does bill richardson live', 'what is the difference between infectious diseases and communicable diseases', 'where did the name nazi come from', 'what is the government of spain today', 'what language do they denmark', 'what time is nebraska now', 'what other writers influenced charles dickens', 'where does sam bradford play', 'where is the kakadu national park located', 'what bass does jared followill use', 'when are the summer olympics held', 'who did tupac shakur date', 'what character did natalie portman play in star wars', 'where is jay cutler now', 'who was the general for the british in the revolutionary war', 'what can you do in palm springs ca', 'what to do in midland tx this weekend', 'what did mister rogers do before tv', 'where is whistler mountain located', 'when did the bali bombings occur', 'what are the major imports of the united states']\n"
     ]
    }
   ],
   "source": [
    "actual1=[]\n",
    "for i in actual:\n",
    "    actual1.append(' '.join(i))\n",
    "print(actual1)"
   ]
  },
  {
   "cell_type": "code",
   "execution_count": 38,
   "metadata": {
    "scrolled": true
   },
   "outputs": [
    {
     "name": "stdout",
     "output_type": "stream",
     "text": [
      "['current queen australia', 'fairfield', 'year spudd webb dunk contest', 'played maxie jones general hospital', 'major languages italy', 'language speak indonesia', 'st francis patron saint', 'kids phx az', 'kind money uk use', 'played atticus finch movie', 'plays alan parrish jumanji', 'hugh hefner dating', 'cristiano ronaldo play', 'countries part united kingdom', 'celtics win championship', 'jobs albert einstein', 'things thomas edison invented', 'matthew brady live', 'happen greece defaults', 'current president colombia', 'plays hannah montana', 'corey haim act', 'leader japan right', 'countries queen elizabeth ii reign', 'fun things philadelphia', 'queen victoria queen', 'year lakers win first championship', 'traditions jamaica', 'last year nfl super bowl', 'discovered', 'government japan', 'first leader afl', 'beth tweddle compete', 'name wright brothers plane', 'mario lopez marry', 'official language china', 'team hank baskett play season', 'voice family guys meg griffin', 'owns wikimedia foundation', 'things thomas edison invent', 'currency used england', 'team shaq play', 'theodore roosevelt political party', 'type money japanese use', 'type government england glorious revolution', 'college kerry collins', 'movies kristen stewart act', 'obama degree', 'kind money use costa rica', 'south carolina located', 'see dallas tx', 'voices lola bunny looney tunes', 'inspired scott fitzgerald', 'season tony soprano get shot', 'john steinbeck known', 'kirk herbstreit', 'matthias schleiden work', 'kind government mongolia', 'language people czech republic speak', 'liz taylor married', 'year zheng travels china', 'owns chrysler corporation', 'countries make great britain capitals', 'names walt disney kids', 'chicago bulls win first championship', 'volga river start', 'language native american indians speak', 'australia call money', 'book niccolo machiavelli write', 'played elle greenaway', 'countries part nato', 'region czech republic', 'religions practiced afghanistan', 'president jfk died', 'college charles richard drew go', 'airport daytona beach florida', 'chad michael murray play', 'currency use costa rica', 'kansas city chiefs play', 'discovery sir isaac make force', 'al arabic names', 'origin turkish language', 'business raj kundra', 'malcom floyd play', 'kim kardashian first husband', 'portuguese language come', 'countries speak german first language', 'aurora colorado shooting take place', 'played carlton banks', 'played nba last night', 'john beck play', 'plays captain kirk', 'time london heathrow', 'war abraham lincoln serve president', 'drew stanton play college', 'best currency take egypt', 'james baldwin go school', 'george play cheers', 'songs whitney houston', 'william shakespeare perform plays', 'college jeff corwin go', 'lamar odom playing', 'kinda music john mayer sing', 'selena gomez raised', 'movies robert blake play', 'go phnom penh cambodia', 'become artist', 'team kris humphries play', 'wellsville missouri', 'real life examples darwin theory evolution', 'nfl redskins', 'tennessee smoky mountains', 'kobe bryant attend high school', 'tupac grew', 'bill richardson live', 'difference infectious diseases communicable diseases', 'name nazi come', 'government spain today', 'language denmark', 'time nebraska', 'writers influenced charles dickens', 'sam bradford play', 'kakadu national park located', 'bass jared followill use', 'summer olympics held', 'tupac shakur date', 'character natalie portman play star wars', 'jay cutler', 'general british revolutionary war', 'palm springs', 'midland tx weekend', 'mister rogers tv', 'whistler mountain located', 'bali bombings occur', 'major imports united states']\n"
     ]
    }
   ],
   "source": [
    "k1=[]\n",
    "for i in k:\n",
    "    k1.append(' '.join(i))\n",
    "print(k1)"
   ]
  },
  {
   "cell_type": "code",
   "execution_count": 27,
   "metadata": {},
   "outputs": [
    {
     "data": {
      "text/plain": [
       "array(['Bacterium causes Disorders',\n",
       "       'Bacterium interacts_with Living_Beings', 'Bacterium isa Objects',\n",
       "       'Bacterium issue_in Occupations',\n",
       "       'Bacterium location_of Chemicals_&_Drugs',\n",
       "       'Acquired_Abnormality affects Living_Beings',\n",
       "       'Immunologic_Factor indicates Living_Beings',\n",
       "       'Alga interacts_with Living_Beings',\n",
       "       'Acquired_Abnormality location_of Living_Beings',\n",
       "       'Acquired_Abnormality part_of Living_Beings',\n",
       "       'Biologic_Function process_of Living_Beings',\n",
       "       'Clinical_Attribute property_of Living_Beings'], dtype='<U74')"
      ]
     },
     "execution_count": 27,
     "metadata": {},
     "output_type": "execute_result"
    }
   ],
   "source": [
    "keywords"
   ]
  },
  {
   "cell_type": "code",
   "execution_count": 39,
   "metadata": {
    "scrolled": true
   },
   "outputs": [
    {
     "name": "stdout",
     "output_type": "stream",
     "text": [
      "['what is the current queen australia', 'what what is fairfield', 'what did did year spudd webb dunk contest', 'what is the played maxie jones general hospital', 'what is the major languages italy', 'what is the language speak indonesia', 'what is the st francis patron saint', 'what is the kids phx az', 'what did the kind money uk use', 'what is the played atticus finch movie', 'what is the plays alan parrish jumanji', 'what is the hugh hefner dating', 'what is the cristiano ronaldo play', 'what did the countries part united kingdom', 'what is the celtics win championship', 'what is the jobs albert einstein', 'what is the things thomas edison invented', 'what is the matthew brady live', 'what is the happen greece defaults', 'what is the current president colombia', 'what is the plays hannah montana', 'what is the corey haim act', 'what did the leader japan right', 'what did the countries queen elizabeth ii reign', 'what is the fun things philadelphia', 'what is the queen victoria queen', 'what did the year lakers win first championship', 'what is the traditions jamaica', 'what did did last year nfl super bowl', 'what what is discovered', 'what is the government japan', 'what is the first leader afl', 'what is the beth tweddle compete', 'what did the name wright brothers plane', 'what is the mario lopez marry', 'what is the official language china', 'what did the team hank baskett play season', 'what did the voice family guys meg griffin', 'what is the owns wikimedia foundation', 'what is the things thomas edison invent', 'what is the currency used england', 'what is the team shaq play', 'what is the theodore roosevelt political party', 'what did the type money japanese use', 'what did did type government england glorious revolution', 'what is the college kerry collins', 'what is the movies kristen stewart act', 'what is the obama degree', 'what did the kind money use costa rica', 'what is the south carolina located', 'what is the see dallas tx', 'what did the voices lola bunny looney tunes', 'what is the inspired scott fitzgerald', 'what did the season tony soprano get shot', 'what is the john steinbeck known', 'what what is kirk herbstreit', 'what is the matthias schleiden work', 'what is the kind government mongolia', 'what did the language people czech republic speak', 'what is the liz taylor married', 'what is the year zheng travels china', 'what is the owns chrysler corporation', 'what did did countries make great britain capitals', 'what did the names walt disney kids', 'what did the chicago bulls win first championship', 'what is the volga river start', 'what did the language native american indians speak', 'what is the australia call money', 'what is the book niccolo machiavelli write', 'what is the played elle greenaway', 'what is did countries part nato', 'what is the region czech republic', 'what is the religions practiced afghanistan', 'what did the president jfk died', 'what did the college charles richard drew go', 'what did the airport daytona beach florida', 'what did the chad michael murray play', 'what did the currency use costa rica', 'what did the kansas city chiefs play', 'what did the discovery sir isaac make force', 'what is the al arabic names', 'what is the origin turkish language', 'what is the business raj kundra', 'what is the malcom floyd play', 'what is the kim kardashian first husband', 'what is the portuguese language come', 'what did the countries speak german first language', 'what is the aurora colorado shooting take place', 'what is the played carlton banks', 'what is the played nba last night', 'what is the john beck play', 'what is the plays captain kirk', 'what did the time london heathrow', 'what did the war abraham lincoln serve president', 'what did the drew stanton play college', 'what did the best currency take egypt', 'what is the james baldwin go school', 'what is the george play cheers', 'what is the songs whitney houston', 'what did the william shakespeare perform plays', 'what is the college jeff corwin go', 'what is the lamar odom playing', 'what did the kinda music john mayer sing', 'what is the selena gomez raised', 'what did the movies robert blake play', 'what did did go phnom penh cambodia', 'what what is become artist', 'what is the team kris humphries play', 'what is the wellsville missouri', 'what did the real life examples darwin theory evolution', 'what is the nfl redskins', 'what is the tennessee smoky mountains', 'what is the kobe bryant attend high school', 'what is the tupac grew', 'what is the bill richardson live', 'what is the difference infectious diseases communicable diseases', 'what is the name nazi come', 'what is the government spain today', 'what is the language denmark', 'what is the time nebraska', 'what is the writers influenced charles dickens', 'what is the sam bradford play', 'what is the kakadu national park located', 'what is the bass jared followill use', 'what is the summer olympics held', 'what is the tupac shakur date', 'what did the character natalie portman play star wars', 'what is the jay cutler', 'what is the general british revolutionary war', 'what is is palm springs', 'what is the midland tx weekend', 'what is the mister rogers tv', 'what is the whistler mountain located', 'what is the bali bombings occur', 'what did did major imports united states']\n"
     ]
    }
   ],
   "source": [
    "predicted1=[]\n",
    "for i in predicted:\n",
    "    predicted1.append(' '.join(i))\n",
    "print(predicted1)"
   ]
  },
  {
   "cell_type": "code",
   "execution_count": null,
   "metadata": {},
   "outputs": [],
   "source": []
  }
 ],
 "metadata": {
  "kernelspec": {
   "display_name": "Python 3",
   "language": "python",
   "name": "python3"
  },
  "language_info": {
   "codemirror_mode": {
    "name": "ipython",
    "version": 3
   },
   "file_extension": ".py",
   "mimetype": "text/x-python",
   "name": "python",
   "nbconvert_exporter": "python",
   "pygments_lexer": "ipython3",
   "version": "3.6.4"
  }
 },
 "nbformat": 4,
 "nbformat_minor": 2
}
